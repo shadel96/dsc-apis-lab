{
 "cells": [
  {
   "cell_type": "markdown",
   "metadata": {},
   "source": [
    "# APIs - Cumulative Lab\n",
    "\n",
    "\n",
    "## Introduction \n",
    "\n",
    "We've seen how the Yelp API works and how to create basic visualizations using Folium. It's time to put those skills to work in order to create a working map! Taking things a step further, you'll also independently explore how to perform pagination in order to retrieve a full results set from the Yelp API.\n",
    "\n",
    "## Objectives\n",
    "\n",
    "You will be able to: \n",
    "\n",
    "* Practice using functions to organize your code\n",
    "* Use pagination to retrieve all results from an API query\n",
    "* Practice parsing data returned from an API query\n",
    "* Practice interpreting visualizations of a dataset\n",
    "* Create maps using Folium"
   ]
  },
  {
   "cell_type": "markdown",
   "metadata": {},
   "source": [
    "## Your Task: Query Yelp for All Businesses in a Category and Analyze the Results\n",
    "\n",
    "![restaurant counter with pizza](images/restaurant_counter.jpg)\n",
    "\n",
    "Photo by <a href=\"https://unsplash.com/@jordanmadrid?utm_source=unsplash&utm_medium=referral&utm_content=creditCopyText\">Jordan Madrid</a> on <a href=\"/s/photos/pizza-restaurant?utm_source=unsplash&utm_medium=referral&utm_content=creditCopyText\">Unsplash</a>"
   ]
  },
  {
   "cell_type": "markdown",
   "metadata": {},
   "source": [
    "### Overview\n",
    "\n",
    "You've now worked with some API calls, but we have yet to see how to retrieve a more complete dataset in a programmatic manner. In this lab, you will write a query of businesses on Yelp, then use *pagination* to retrieve all possible results for that query. Then you will create a summary of your findings, including a Folium map of the geographic locations of those businesses.\n",
    "\n",
    "### Technical Details\n",
    "\n",
    "Returning to the Yelp API, the [documentation](https://www.yelp.com/developers/documentation/v3/business_search) also provides us details regarding the **API limits**. These often include details about the number of requests a user is allowed to make within a specified time limit and the maximum number of results to be returned. In this case, we are told that any request has a **maximum of 50 results per request** and defaults to 20. Furthermore, any search will be limited to a **total of 1000 results**. To retrieve all 1000 of these results, we would have to page through the results piece by piece, retrieving 50 at a time. Processes such as these are often referred to as pagination.\n",
    "\n",
    "Also, be mindful of the **API** ***rate*** **limits**. You can only make **5000 requests per day** and are also can make requests too fast. Start prototyping small before running a loop that could be faulty. You can also use `time.sleep(n)` to add delays. For more details see https://www.yelp.com/developers/documentation/v3/rate_limiting.\n",
    "\n",
    "In this lab, you will define a search and then paginate over the results to retrieve all of the results. You'll then parse these responses as a list of dictionaries (for further exploration) and create a map using Folium to visualize the results geographically.\n",
    "\n",
    "### Requirements\n",
    "\n",
    "#### 1. Make the Initial Request\n",
    "\n",
    "Start by filling in your API key to make the initial request to the business search API. Investigate the structure of the response you get back and start figuring out how you will extract the relevant information.\n",
    "\n",
    "#### 2. Add Pagination\n",
    "\n",
    "Using loops and functions, collect the maximum number of results for your query from the API.\n",
    "\n",
    "#### 3. Perform Exploratory Analysis\n",
    "\n",
    "Interpret visualizations related to the price range, average rating, and number of reviews for all query results.\n",
    "\n",
    "#### 4. Create a Folium Map\n",
    "\n",
    "Using latitude and longitude data, plot the query results on an interactive map."
   ]
  },
  {
   "cell_type": "markdown",
   "metadata": {},
   "source": [
    "## 1. Make the Initial Request\n",
    "\n",
    "### Querying\n",
    "\n",
    "Start by making an initial request to the Yelp API. Your search must include at least 2 parameters: **term** and **location**. For example, you might search for pizza restaurants in NYC. The term and location is up to you but make the request below.\n",
    "\n",
    "Use the `requests` library ([documentation here](https://requests.readthedocs.io/en/master/user/quickstart/#make-a-request)).\n",
    "\n",
    "You'll also need an API key from Yelp. If you haven't done this already, go to the Yelp [Manage App page](https://www.yelp.com/developers/v3/manage_app) and create a new app (after making an account if you haven't already)."
   ]
  },
  {
   "cell_type": "code",
   "execution_count": 4,
   "metadata": {},
   "outputs": [
    {
     "name": "stdout",
     "output_type": "stream",
     "text": [
      "<Response [200]>\n"
     ]
    }
   ],
   "source": [
    "# Replace None with appropriate code\n",
    "\n",
    "# Import the requests library\n",
    "import requests\n",
    "\n",
    "# Get this from the \"Manage App\" page. Make sure you set them\n",
    "# back to None before pushing this to GitHub, since otherwise\n",
    "# your credentials will be compromised\n",
    "\n",
    "api_key = \"\"\n",
    "\n",
    "# These can be whatever you want! But the solution uses \"pizza\"\n",
    "# and \"New York NY\" if you want to compare your work directly\n",
    "term = \"pizza\"\n",
    "location = \"New York NY\"\n",
    "\n",
    "# Set up params for request\n",
    "url = \"https://api.yelp.com/v3/businesses/search\"\n",
    "headers = {\n",
    "    \"Authorization\": \"Bearer {}\".format(api_key)\n",
    "}\n",
    "url_params = {\n",
    "    \"term\": term.replace(\" \", \"+\"),\n",
    "    \"location\": location.replace(\" \", \"+\")\n",
    "}\n",
    "\n",
    "# Make the request using requests.get, passing in\n",
    "# url, headers=headers, and params=url_params\n",
    "response = requests.get(url, headers=headers, params=url_params)\n",
    "\n",
    "print(response)\n",
    "\n",
    "# Confirm we got a 200 response"
   ]
  },
  {
   "cell_type": "code",
   "execution_count": 5,
   "metadata": {},
   "outputs": [
    {
     "data": {
      "text/plain": [
       "dict_keys(['businesses', 'total', 'region'])"
      ]
     },
     "execution_count": 5,
     "metadata": {},
     "output_type": "execute_result"
    }
   ],
   "source": [
    "# Run this cell without changes\n",
    "\n",
    "# Get the response body in JSON format\n",
    "response_json = response.json()\n",
    "# View the keys\n",
    "response_json.keys()"
   ]
  },
  {
   "cell_type": "markdown",
   "metadata": {},
   "source": [
    "### Extracting Data\n",
    "\n",
    "Now, retrieve the value associated with the `'businesses'` key, and inspect its contents."
   ]
  },
  {
   "cell_type": "code",
   "execution_count": 6,
   "metadata": {},
   "outputs": [
    {
     "data": {
      "text/plain": [
       "[{'id': 'zj8Lq1T8KIC5zwFief15jg',\n",
       "  'alias': 'prince-street-pizza-new-york-2',\n",
       "  'name': 'Prince Street Pizza',\n",
       "  'image_url': 'https://s3-media3.fl.yelpcdn.com/bphoto/ZAukOyv530w4KjOHC5YY1w/o.jpg',\n",
       "  'is_closed': False,\n",
       "  'url': 'https://www.yelp.com/biz/prince-street-pizza-new-york-2?adjust_creative=7HGSn56BVBEvqTIP4_dGPg&utm_campaign=yelp_api_v3&utm_medium=api_v3_business_search&utm_source=7HGSn56BVBEvqTIP4_dGPg',\n",
       "  'review_count': 4161,\n",
       "  'categories': [{'alias': 'pizza', 'title': 'Pizza'},\n",
       "   {'alias': 'italian', 'title': 'Italian'}],\n",
       "  'rating': 4.5,\n",
       "  'coordinates': {'latitude': 40.72308755605564,\n",
       "   'longitude': -73.99453001177575},\n",
       "  'transactions': ['pickup', 'delivery'],\n",
       "  'price': '$',\n",
       "  'location': {'address1': '27 Prince St',\n",
       "   'address2': None,\n",
       "   'address3': '',\n",
       "   'city': 'New York',\n",
       "   'zip_code': '10012',\n",
       "   'country': 'US',\n",
       "   'state': 'NY',\n",
       "   'display_address': ['27 Prince St', 'New York, NY 10012']},\n",
       "  'phone': '+12129664100',\n",
       "  'display_phone': '(212) 966-4100',\n",
       "  'distance': 1961.8771417367063},\n",
       " {'id': 'ysqgdbSrezXgVwER2kQWKA',\n",
       "  'alias': 'julianas-brooklyn-3',\n",
       "  'name': \"Juliana's\",\n",
       "  'image_url': 'https://s3-media2.fl.yelpcdn.com/bphoto/clscwgOF9_Ecq-Rwsq7jyQ/o.jpg',\n",
       "  'is_closed': False,\n",
       "  'url': 'https://www.yelp.com/biz/julianas-brooklyn-3?adjust_creative=7HGSn56BVBEvqTIP4_dGPg&utm_campaign=yelp_api_v3&utm_medium=api_v3_business_search&utm_source=7HGSn56BVBEvqTIP4_dGPg',\n",
       "  'review_count': 2395,\n",
       "  'categories': [{'alias': 'pizza', 'title': 'Pizza'}],\n",
       "  'rating': 4.5,\n",
       "  'coordinates': {'latitude': 40.70274718768062,\n",
       "   'longitude': -73.99343490196397},\n",
       "  'transactions': ['delivery'],\n",
       "  'price': '$$',\n",
       "  'location': {'address1': '19 Old Fulton St',\n",
       "   'address2': '',\n",
       "   'address3': '',\n",
       "   'city': 'Brooklyn',\n",
       "   'zip_code': '11201',\n",
       "   'country': 'US',\n",
       "   'state': 'NY',\n",
       "   'display_address': ['19 Old Fulton St', 'Brooklyn, NY 11201']},\n",
       "  'phone': '+17185966700',\n",
       "  'display_phone': '(718) 596-6700',\n",
       "  'distance': 308.56984360837544}]"
      ]
     },
     "execution_count": 6,
     "metadata": {},
     "output_type": "execute_result"
    }
   ],
   "source": [
    "# Replace None with appropriate code\n",
    "\n",
    "# Retrieve the value from response_json\n",
    "businesses = response.json()['businesses']\n",
    "\n",
    "# View the first 2 records\n",
    "businesses[:2]"
   ]
  },
  {
   "cell_type": "markdown",
   "metadata": {},
   "source": [
    "### Preparing Data\n",
    "\n",
    "Write a function `prepare_data` that takes in a list of dictionaries like `businesses` and returns a copy that has been prepared for analysis:\n",
    "\n",
    "1. The `coordinates` key-value pair has been converted into two separate key-value pairs, `latitude` and `longitude`\n",
    "2. All other key-value pairs except for `name`, `review_count`, `rating`, and `price` have been dropped\n",
    "3. All dictionaries missing one of the relevant keys or containing null values have been dropped\n",
    "\n",
    "In other words, the final keys for each dictionary should be `name`, `review_count`, `rating`, `price`, `latitude`, and `longitude`.\n",
    "\n",
    "Complete the function in the cell below:"
   ]
  },
  {
   "cell_type": "code",
   "execution_count": 7,
   "metadata": {},
   "outputs": [
    {
     "data": {
      "text/plain": [
       "[{'name': 'Prince Street Pizza',\n",
       "  'review_count': 4161,\n",
       "  'rating': 4.5,\n",
       "  'price': '$',\n",
       "  'latitude': 40.72308755605564,\n",
       "  'longitude': -73.99453001177575},\n",
       " {'name': \"Juliana's\",\n",
       "  'review_count': 2395,\n",
       "  'rating': 4.5,\n",
       "  'price': '$$',\n",
       "  'latitude': 40.70274718768062,\n",
       "  'longitude': -73.99343490196397},\n",
       " {'name': \"Lombardi's Pizza\",\n",
       "  'review_count': 6248,\n",
       "  'rating': 4.0,\n",
       "  'price': '$$',\n",
       "  'latitude': 40.7215934960083,\n",
       "  'longitude': -73.9955956044561},\n",
       " {'name': 'Rubirosa',\n",
       "  'review_count': 2545,\n",
       "  'rating': 4.5,\n",
       "  'price': '$$',\n",
       "  'latitude': 40.722766,\n",
       "  'longitude': -73.996233},\n",
       " {'name': 'Lucali',\n",
       "  'review_count': 1750,\n",
       "  'rating': 4.0,\n",
       "  'price': '$$',\n",
       "  'latitude': 40.6818,\n",
       "  'longitude': -74.00024}]"
      ]
     },
     "execution_count": 7,
     "metadata": {},
     "output_type": "execute_result"
    }
   ],
   "source": [
    "# Replace None with appropriate code\n",
    "\n",
    "def prepare_data(data_list):\n",
    "    \"\"\"\n",
    "    This function takes in a list of dictionaries and prepares it\n",
    "    for analysis\n",
    "    \"\"\"\n",
    "    \n",
    "    # Make a new list to hold results\n",
    "    results = []\n",
    "    \n",
    "    for business_data in data_list:\n",
    "    \n",
    "        # Make a new dictionary to hold prepared data for this business\n",
    "        \n",
    "        prepared_data = {}\n",
    "        \n",
    "        # Extract name, review_count, rating, and price key-value pairs\n",
    "        # from business_data and add to prepared_data\n",
    "        # If a key is not present in business_data, add it to prepared_data\n",
    "        # with an associated value of None\n",
    "        keys_to_extract = ('name', 'review_count', 'rating', 'price')\n",
    "        \n",
    "        for key in keys_to_extract:\n",
    "            if key in business_data:\n",
    "                prepared_data[key] = business_data[key]\n",
    "            else:\n",
    "                prepared_data[key] = None\n",
    "        \n",
    "    \n",
    "        # Parse and add latitude and longitude columns\n",
    "        prepared_data['latitude'] = business_data['coordinates']['latitude']\n",
    "        prepared_data['longitude'] = business_data['coordinates']['longitude']\n",
    "        \n",
    "        # Add to list if all values are present\n",
    "        if all(prepared_data.values()):\n",
    "            results.append(prepared_data)\n",
    "    \n",
    "    return results\n",
    "    \n",
    "# Test out function\n",
    "prepared_businesses = prepare_data(businesses)\n",
    "prepared_businesses[:5]"
   ]
  },
  {
   "cell_type": "markdown",
   "metadata": {},
   "source": [
    "Check that your function created the correct keys:"
   ]
  },
  {
   "cell_type": "code",
   "execution_count": 8,
   "metadata": {},
   "outputs": [],
   "source": [
    "# Run this cell without changes\n",
    "\n",
    "assert sorted(list(prepared_businesses[0].keys())) == ['latitude', 'longitude', 'name', 'price', 'rating', 'review_count']"
   ]
  },
  {
   "cell_type": "markdown",
   "metadata": {},
   "source": [
    "The following code will differ depending on your query, but we expect there to be 20 businesses in the original list, and potentially fewer in the prepared list (if any of them were missing data):"
   ]
  },
  {
   "cell_type": "code",
   "execution_count": 9,
   "metadata": {},
   "outputs": [
    {
     "name": "stdout",
     "output_type": "stream",
     "text": [
      "Original: 20\n",
      "Prepared: 20\n"
     ]
    }
   ],
   "source": [
    "# Run this cell without changes\n",
    "print(\"Original:\", len(businesses))\n",
    "print(\"Prepared:\", len(prepared_businesses))"
   ]
  },
  {
   "cell_type": "markdown",
   "metadata": {},
   "source": [
    "Great! We will reuse this function once we have retrieved the full dataset."
   ]
  },
  {
   "cell_type": "markdown",
   "metadata": {},
   "source": [
    "## 2. Add Pagination\n",
    "\n",
    "Now that you are able to extract information from one page of the response, let's figure out how to request as many pages as possible.\n",
    "\n",
    "### Determining the Total\n",
    "\n",
    "Depending on the number of total results for your query, you will either retrieve all of the results, or just the first 1000 (if there are more than 1000 total).\n",
    "\n",
    "We can find the total number of results using the `\"total\"` key:"
   ]
  },
  {
   "cell_type": "code",
   "execution_count": 10,
   "metadata": {},
   "outputs": [
    {
     "data": {
      "text/plain": [
       "240"
      ]
     },
     "execution_count": 10,
     "metadata": {},
     "output_type": "execute_result"
    }
   ],
   "source": [
    "# Run this cell without changes\n",
    "response_json[\"total\"]"
   ]
  },
  {
   "cell_type": "markdown",
   "metadata": {},
   "source": [
    "(This is specific to the implementation of the Yelp API. Some APIs will just tell you that there are more pages, or will tell you the number of pages total, rather than the total number of results. If you're not sure, always check the documentation.)\n",
    "\n",
    "In the cell below, assign the variable `total` to either the value shown above (if it is less than 1000), or 1000."
   ]
  },
  {
   "cell_type": "code",
   "execution_count": 11,
   "metadata": {},
   "outputs": [],
   "source": [
    "# Replace None with appropriate code\n",
    "total = response_json[\"total\"]"
   ]
  },
  {
   "cell_type": "markdown",
   "metadata": {},
   "source": [
    "### Calculating the Offsets\n",
    "\n",
    "The documentation states in the parameters section:\n",
    "\n",
    "> **Name**: `limit`, **Type:** int, **Description:** Optional. Number of business results to return. By default, it will return 20. Maximum is 50.\n",
    "\n",
    "> **Name**: `offset`, **Type:** int, **Description:** Optional. Offset the list of returned business results by this amount.\n",
    "\n",
    "So, to get the most results with the fewest API calls we want to set a limit of 50 every time. If, say, we wanted to get 210 total results, that would mean:\n",
    "\n",
    "1. Offset of `0` (first 50 records)\n",
    "2. Offset of `50` (second 50 records)\n",
    "3. Offset of `100` (third 50 records)\n",
    "4. Offset of `150` (fourth 50 records)\n",
    "5. Offset of `200` (final 10 records)\n",
    "\n",
    "In the cell below, create a function `get_offsets` that takes in a total and returns a list of offsets for that total. You can assume that there is a limit of 50 every time.\n",
    "\n",
    "*Hint: you can use `range` ([documentation here](https://docs.python.org/3.3/library/stdtypes.html?highlight=range#range)) to do this in one line of code. Just make the returned result is a list.*"
   ]
  },
  {
   "cell_type": "code",
   "execution_count": 26,
   "metadata": {},
   "outputs": [],
   "source": [
    "# Replace None with appropriate code\n",
    "def get_offsets(total):\n",
    "    \"\"\"\n",
    "    Get a list of offsets needed to get all pages\n",
    "    of data up until the total\n",
    "    \"\"\"\n",
    "    return list(range(0, total,50))"
   ]
  },
  {
   "cell_type": "markdown",
   "metadata": {},
   "source": [
    "Check that your function works below:"
   ]
  },
  {
   "cell_type": "code",
   "execution_count": 27,
   "metadata": {},
   "outputs": [],
   "source": [
    "# Run this cell without changes\n",
    "\n",
    "assert get_offsets(200) == [0, 50, 100, 150]\n",
    "assert get_offsets(210) == [0, 50, 100, 150, 200]"
   ]
  },
  {
   "cell_type": "markdown",
   "metadata": {},
   "source": [
    "### Putting It All Together\n",
    "\n",
    "Recall that the following variable has already been declared for you:"
   ]
  },
  {
   "cell_type": "code",
   "execution_count": 28,
   "metadata": {},
   "outputs": [
    {
     "data": {
      "text/plain": [
       "{'term': 'pizza', 'location': 'New+York+NY'}"
      ]
     },
     "execution_count": 28,
     "metadata": {},
     "output_type": "execute_result"
    }
   ],
   "source": [
    "# Run this cell without changes\n",
    "url_params"
   ]
  },
  {
   "cell_type": "markdown",
   "metadata": {},
   "source": [
    "We'll go ahead and also specify that the limit should be 50 every time:"
   ]
  },
  {
   "cell_type": "code",
   "execution_count": 29,
   "metadata": {},
   "outputs": [],
   "source": [
    "# Run this cell without changes\n",
    "url_params[\"limit\"] = 50"
   ]
  },
  {
   "cell_type": "markdown",
   "metadata": {},
   "source": [
    "In order to modify the offset, you'll need to add it to `url_params` with the key `\"offset\"` and whatever value is needed.\n",
    "\n",
    "In the cell below, write code that:\n",
    "\n",
    "* Creates an empty list for the full prepared dataset\n",
    "* Loops over all of the offsets from `get_offsets` and makes an API call each time with the specified offset\n",
    "* Calls `prepare_data` to get a cleaned version of the result of each API call\n",
    "* Extends the full prepared dataset list with each query's prepared dataset"
   ]
  },
  {
   "cell_type": "code",
   "execution_count": 38,
   "metadata": {},
   "outputs": [
    {
     "data": {
      "text/plain": [
       "197"
      ]
     },
     "execution_count": 38,
     "metadata": {},
     "output_type": "execute_result"
    }
   ],
   "source": [
    "# Replace None with appropriate code\n",
    "\n",
    "# Create an empty list for the full prepared dataset\n",
    "full_dataset = []\n",
    "\n",
    "for offset in get_offsets(total):\n",
    "    # Add or update the \"offset\" key-value pair in url_params\n",
    "    url_params['offset']=offset\n",
    "    \n",
    "    # Make the query and get the response\n",
    "    response = requests.get(url, headers=headers, params=url_params)\n",
    "    \n",
    "    # Get the response body in JSON format\n",
    "    response_json = response.json()\n",
    "    \n",
    "    # Get the list of businesses from the response_json\n",
    "    businesses = response_json['businesses']\n",
    "    \n",
    "    # Call the prepare_data function to get a list of processed data\n",
    "    prepared_businesses = prepare_data(businesses)\n",
    "    \n",
    "    # Extend full_dataset with this list (don't append, or you'll get\n",
    "    # a list of lists instead of a flat list)\n",
    "    full_dataset.extend(prepared_businesses)\n",
    "\n",
    "# Check the length of the full dataset. It will be up to `total`,\n",
    "# potentially less if there were missing values\n",
    "len(full_dataset)"
   ]
  },
  {
   "cell_type": "markdown",
   "metadata": {},
   "source": [
    "This code may take up to a few minutes to run.\n",
    "\n",
    "If you get an error trying to get the response body in JSON format, try adding `time.sleep(1)` right after the `requests.get` line, so your code will sleep for 1 second between each API call."
   ]
  },
  {
   "cell_type": "markdown",
   "metadata": {},
   "source": [
    "## 3. Perform Exploratory Analysis\n",
    "\n",
    "Take the businesses from the previous question and do an initial exploratory analysis. We have provided some plots for you to interpret:"
   ]
  },
  {
   "cell_type": "code",
   "execution_count": 40,
   "metadata": {},
   "outputs": [
    {
     "data": {
      "image/png": "[encoded data removed]",
      "text/plain": [
       "<Figure size 1152x360 with 3 Axes>"
      ]
     },
     "metadata": {
      "needs_background": "light"
     },
     "output_type": "display_data"
    }
   ],
   "source": [
    "# Run this cell without changes\n",
    "from collections import Counter\n",
    "import matplotlib.pyplot as plt\n",
    "%matplotlib inline\n",
    "\n",
    "fig, (ax1, ax2, ax3) = plt.subplots(ncols=3, figsize=(16, 5))\n",
    "\n",
    "# Plot distribution of number of reviews\n",
    "all_review_counts = [x[\"review_count\"] for x in full_dataset]\n",
    "ax1.hist(all_review_counts)\n",
    "ax1.set_title(\"Review Count Distribution\")\n",
    "ax1.set_xlabel(\"Number of Reviews\")\n",
    "ax1.set_ylabel(\"Number of Businesses\")\n",
    "\n",
    "# Plot rating distribution\n",
    "all_ratings = [x[\"rating\"] for x in full_dataset]\n",
    "rating_counter = Counter(all_ratings)\n",
    "rating_keys = sorted(rating_counter.keys())\n",
    "ax2.bar(rating_keys, [rating_counter[key] for key in rating_keys])\n",
    "ax2.set_title(\"Rating Distribution\")\n",
    "ax2.set_xlabel(\"Rating\")\n",
    "ax2.set_ylabel(\"Number of Businesses\")\n",
    "\n",
    "# Plot price distribution\n",
    "all_prices = [x[\"price\"].replace(\"$\", r\"\\$\") for x in full_dataset]\n",
    "price_counter = Counter(all_prices)\n",
    "price_keys = sorted(price_counter.keys())\n",
    "ax3.bar(price_keys, [price_counter[key] for key in price_keys])\n",
    "ax3.set_title(\"Price Distribution\")\n",
    "ax3.set_xlabel(\"Price Category\")\n",
    "ax3.set_ylabel(\"Number of Businesses\");"
   ]
  },
  {
   "cell_type": "markdown",
   "metadata": {},
   "source": [
    "Describe the distributions displayed above and interpret them in the context of your query. (Your answer may differ from the solution branch depending on your query.)"
   ]
  },
  {
   "cell_type": "code",
   "execution_count": null,
   "metadata": {},
   "outputs": [],
   "source": [
    "# Replace None with appropriate text\n",
    "\"\"\"\n",
    "Most businesses have 1000 or less reviews, as expected. In my experience most people dont write reviews.\n",
    "Ratings are on average a 4, which again meets expectations.\n",
    "Price ranges are also unsurprising, with the most common by far being \"$$\" (a standard affordability range) \n",
    "and then even more affordable being the second most common, and then far behind those are the fancier, more expensive businesses.\n",
    "\"\"\""
   ]
  },
  {
   "cell_type": "markdown",
   "metadata": {},
   "source": [
    "In the cell below, we also plot the rating distributions by price. In this setup, a price of one dollar sign is \"lower price\" and everything else is \"higher price\"."
   ]
  },
  {
   "cell_type": "code",
   "execution_count": 41,
   "metadata": {},
   "outputs": [
    {
     "data": {
      "image/png": "[encoded data removed]",
      "text/plain": [
       "<Figure size 432x288 with 1 Axes>"
      ]
     },
     "metadata": {
      "needs_background": "light"
     },
     "output_type": "display_data"
    }
   ],
   "source": [
    "# Run this cell without changes\n",
    "\n",
    "higher_price = []\n",
    "lower_price = []\n",
    "for row in full_dataset:\n",
    "    if row[\"price\"] == \"$\":\n",
    "        lower_price.append(row[\"rating\"])\n",
    "    else:\n",
    "        higher_price.append(row[\"rating\"])\n",
    "        \n",
    "fig, ax = plt.subplots()\n",
    "\n",
    "ax.hist([higher_price, lower_price], label=[\"higher price\", \"lower price\"], density=True)\n",
    "\n",
    "ax.legend();"
   ]
  },
  {
   "cell_type": "markdown",
   "metadata": {},
   "source": [
    "Is a higher price associated with a higher rating? (No need for any additional math/statistics, just interpret what you see in the plot.)"
   ]
  },
  {
   "cell_type": "code",
   "execution_count": 42,
   "metadata": {},
   "outputs": [
    {
     "data": {
      "text/plain": [
       "'\\nNone\\n'"
      ]
     },
     "execution_count": 42,
     "metadata": {},
     "output_type": "execute_result"
    }
   ],
   "source": [
    "# Replace None with appropriate text\n",
    "\"\"\"\n",
    "There doesn't seem to be any data in this plot that firmly demonstrates difference in rating determined by a businesses being higher or lower priced.\n",
    "\"\"\""
   ]
  },
  {
   "cell_type": "markdown",
   "metadata": {},
   "source": [
    "Finally, let's look at ratings vs. review counts:"
   ]
  },
  {
   "cell_type": "code",
   "execution_count": 43,
   "metadata": {},
   "outputs": [
    {
     "data": {
      "image/png": "[encoded data removed]",
      "text/plain": [
       "<Figure size 1152x360 with 1 Axes>"
      ]
     },
     "metadata": {
      "needs_background": "light"
     },
     "output_type": "display_data"
    }
   ],
   "source": [
    "# Run this cell without changes\n",
    "fig, ax = plt.subplots(figsize=(16,5))\n",
    "\n",
    "ax.scatter(all_review_counts, all_ratings, alpha=0.2)\n",
    "ax.set_xlabel(\"Number of Reviews\")\n",
    "ax.set_ylabel(\"Rating\")\n",
    "# \"zoom in\" to a subset of review counts\n",
    "ax.set_xlim(left=0, right=1000);"
   ]
  },
  {
   "cell_type": "markdown",
   "metadata": {},
   "source": [
    "Is a higher number of reviews associated with a higher rating?"
   ]
  },
  {
   "cell_type": "code",
   "execution_count": 44,
   "metadata": {},
   "outputs": [
    {
     "data": {
      "text/plain": [
       "'\\nNone\\n'"
      ]
     },
     "execution_count": 44,
     "metadata": {},
     "output_type": "execute_result"
    }
   ],
   "source": [
    "# Replace None with appropriate text\n",
    "\"\"\"\n",
    "While having less reviews (under 400) seems to slightly influence the number of good ratings, \n",
    "the general indication is that there is no correlation between a higher number of reviews and a higher rating.\n",
    "\"\"\""
   ]
  },
  {
   "cell_type": "markdown",
   "metadata": {},
   "source": [
    "## 4. Create a Folium Map\n",
    "\n",
    "Make a map using Folium of the businesses you retrieved. Be sure to also add popups to the markers giving some basic information such as name, rating and price.\n",
    "\n",
    "You can center the map around the latitude and longitude of the first item in `full_dataset`."
   ]
  },
  {
   "cell_type": "code",
   "execution_count": 53,
   "metadata": {},
   "outputs": [
    {
     "data": {
      "text/html": [
       "<div style=\"width:100%;\"><div style=\"position:relative;width:100%;height:0;padding-bottom:60%;\"><span style=\"color:#565656\">Make this Notebook Trusted to load map: File -> Trust Notebook</span><iframe src=\"about:blank\" style=\"position:absolute;width:100%;height:100%;left:0;top:0;border:none !important;\" data-html=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 onload=\"this.contentDocument.open();this.contentDocument.write(atob(this.getAttribute('data-html')));this.contentDocument.close();\" allowfullscreen webkitallowfullscreen mozallowfullscreen></iframe></div></div>"
      ],
      "text/plain": [
       "<folium.folium.Map at 0x28225836040>"
      ]
     },
     "execution_count": 53,
     "metadata": {},
     "output_type": "execute_result"
    }
   ],
   "source": [
    "# Replace None with appropriate code\n",
    "\n",
    "# Import the library\n",
    "import folium\n",
    "\n",
    "# Set up center latitude and longitude\n",
    "center_lat = None\n",
    "center_long = None\n",
    "\n",
    "# Initialize map with center lat and long\n",
    "yelp_map = folium.Map([lat, long])\n",
    "\n",
    "# Adjust this limit to see more or fewer businesses\n",
    "limit=20\n",
    "\n",
    "for business in full_dataset[:limit]:\n",
    "    # Extract information about business\n",
    "    lat = business['latitude']\n",
    "    long = business['longitude']\n",
    "    name = business['name']\n",
    "    rating = business['rating']\n",
    "    price = business['price']\n",
    "    details = \"{}\\nPrice: {} Rating:{}\".format(name,price,rating)\n",
    "    \n",
    "    # Create popup with relevant details\n",
    "    popup_text = \"Name: {}, Rating: {}, Price: {}\".format(name, rating, price)\n",
    "    popup = folium.Popup(popup_text, parse_html=True)\n",
    "    \n",
    "    # Create marker with relevant lat/long and popup\n",
    "    marker = folium.Marker(location=[lat, long], popup=popup)\n",
    "    \n",
    "    marker.add_to(yelp_map)\n",
    "    \n",
    "yelp_map"
   ]
  },
  {
   "cell_type": "markdown",
   "metadata": {},
   "source": [
    "## Summary\n",
    "\n",
    "Nice work! In this lab, you've made multiple API calls to Yelp in order to paginate through a results set, performing some basic exploratory analysis and then creating a nice interactive map to display the results using Folium! Well done!"
   ]
  }
 ],
 "metadata": {
  "kernelspec": {
   "display_name": "Python 3",
   "language": "python",
   "name": "python3"
  },
  "language_info": {
   "codemirror_mode": {
    "name": "ipython",
    "version": 3
   },
   "file_extension": ".py",
   "mimetype": "text/x-python",
   "name": "python",
   "nbconvert_exporter": "python",
   "pygments_lexer": "ipython3",
   "version": "3.8.5"
  },
  "toc": {
   "base_numbering": 1,
   "nav_menu": {},
   "number_sections": true,
   "sideBar": true,
   "skip_h1_title": false,
   "title_cell": "Table of Contents",
   "title_sidebar": "Contents",
   "toc_cell": false,
   "toc_position": {},
   "toc_section_display": true,
   "toc_window_display": false
  }
 },
 "nbformat": 4,
 "nbformat_minor": 2
}
